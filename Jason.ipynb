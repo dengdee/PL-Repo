{
 "cells": [
  {
   "cell_type": "code",
   "execution_count": 40,
   "id": "b47edd23",
   "metadata": {},
   "outputs": [
    {
     "name": "stdout",
     "output_type": "stream",
     "text": [
      "{'shoppingList': {'groceries': [{'item': 'Apples', 'quantity': 3, 'unit': 'lbs'}, {'item': 'Grapes', 'quantity': 2, 'unit': 'lbs'}, {'item': 'Bread', 'quantity': 2, 'unit': 'loaves'}, {'item': 'Milk', 'quantity': 1, 'unit': 'gallon'}, {'item': 'Eggs', 'quantity': 1, 'unit': 'dozen'}, {'item': 'Chicken', 'quantity': 2, 'unit': 'lbs'}, {'item': 'Meat', 'quantity': 1, 'unit': 'lbs'}, {'item': 'Tomato', 'quantity': 2, 'unit': 'lbs'}], 'personalCare': [{'item': 'Toothpaste', 'quantity': 2, 'unit': 'packs'}, {'item': 'Shampoo', 'quantity': 1, 'unit': 'bottle'}, {'item': 'Soap', 'quantity': 3, 'unit': 'bars'}, {'item': 'Toilet Paper', 'quantity': 1, 'unit': 'pack'}], 'householdItems': [{'item': 'Paper Towels', 'quantity': 4, 'unit': 'rolls'}, {'item': 'Laundry Detergent', 'quantity': 1, 'unit': 'container'}, {'item': 'Trash Bags', 'quantity': 2, 'unit': 'boxes'}, {'item': 'Batteries', 'quantity': 1, 'unit': 'pack'}]}}\n"
     ]
    }
   ],
   "source": [
    "# Python program to read\n",
    "# json file\n",
    "\n",
    "import json\n",
    "import seaborn as sns\n",
    "import pandas as pd\n",
    "from pandas import json_normalize\n",
    "\n",
    "# Opening JSON file\n",
    "f = open('sample2.json')\n",
    "\n",
    "# returns JSON object as a dictionary\n",
    "data = json.load(f)\n",
    "\n",
    "# Iterating through the json\n",
    "print(data)\n",
    "# Closing file\n",
    "f.close()\n"
   ]
  },
  {
   "cell_type": "code",
   "execution_count": 41,
   "id": "1b7833b1",
   "metadata": {},
   "outputs": [
    {
     "name": "stdout",
     "output_type": "stream",
     "text": [
      "groceries\n",
      "{'item': 'Apples', 'quantity': 3, 'unit': 'lbs'}\n",
      "{'item': 'Grapes', 'quantity': 2, 'unit': 'lbs'}\n",
      "{'item': 'Bread', 'quantity': 2, 'unit': 'loaves'}\n",
      "{'item': 'Milk', 'quantity': 1, 'unit': 'gallon'}\n",
      "{'item': 'Eggs', 'quantity': 1, 'unit': 'dozen'}\n",
      "{'item': 'Chicken', 'quantity': 2, 'unit': 'lbs'}\n",
      "{'item': 'Meat', 'quantity': 1, 'unit': 'lbs'}\n",
      "{'item': 'Tomato', 'quantity': 2, 'unit': 'lbs'}\n",
      "personalCare\n",
      "{'item': 'Toothpaste', 'quantity': 2, 'unit': 'packs'}\n",
      "{'item': 'Shampoo', 'quantity': 1, 'unit': 'bottle'}\n",
      "{'item': 'Soap', 'quantity': 3, 'unit': 'bars'}\n",
      "{'item': 'Toilet Paper', 'quantity': 1, 'unit': 'pack'}\n",
      "householdItems\n",
      "{'item': 'Paper Towels', 'quantity': 4, 'unit': 'rolls'}\n",
      "{'item': 'Laundry Detergent', 'quantity': 1, 'unit': 'container'}\n",
      "{'item': 'Trash Bags', 'quantity': 2, 'unit': 'boxes'}\n",
      "{'item': 'Batteries', 'quantity': 1, 'unit': 'pack'}\n"
     ]
    }
   ],
   "source": [
    "for i in data['shoppingList']:\n",
    "    print(i)\n",
    "    for j in data['shoppingList'][i]:\n",
    "        print(j)\n",
    "        "
   ]
  },
  {
   "cell_type": "code",
   "execution_count": 42,
   "id": "f086813c",
   "metadata": {},
   "outputs": [
    {
     "data": {
      "text/html": [
       "<div>\n",
       "<style scoped>\n",
       "    .dataframe tbody tr th:only-of-type {\n",
       "        vertical-align: middle;\n",
       "    }\n",
       "\n",
       "    .dataframe tbody tr th {\n",
       "        vertical-align: top;\n",
       "    }\n",
       "\n",
       "    .dataframe thead th {\n",
       "        text-align: right;\n",
       "    }\n",
       "</style>\n",
       "<table border=\"1\" class=\"dataframe\">\n",
       "  <thead>\n",
       "    <tr style=\"text-align: right;\">\n",
       "      <th></th>\n",
       "      <th>item</th>\n",
       "      <th>quantity</th>\n",
       "      <th>unit</th>\n",
       "    </tr>\n",
       "  </thead>\n",
       "  <tbody>\n",
       "    <tr>\n",
       "      <th>0</th>\n",
       "      <td>Apples</td>\n",
       "      <td>3</td>\n",
       "      <td>lbs</td>\n",
       "    </tr>\n",
       "    <tr>\n",
       "      <th>1</th>\n",
       "      <td>Grapes</td>\n",
       "      <td>2</td>\n",
       "      <td>lbs</td>\n",
       "    </tr>\n",
       "    <tr>\n",
       "      <th>2</th>\n",
       "      <td>Bread</td>\n",
       "      <td>2</td>\n",
       "      <td>loaves</td>\n",
       "    </tr>\n",
       "    <tr>\n",
       "      <th>3</th>\n",
       "      <td>Milk</td>\n",
       "      <td>1</td>\n",
       "      <td>gallon</td>\n",
       "    </tr>\n",
       "    <tr>\n",
       "      <th>4</th>\n",
       "      <td>Eggs</td>\n",
       "      <td>1</td>\n",
       "      <td>dozen</td>\n",
       "    </tr>\n",
       "    <tr>\n",
       "      <th>5</th>\n",
       "      <td>Chicken</td>\n",
       "      <td>2</td>\n",
       "      <td>lbs</td>\n",
       "    </tr>\n",
       "    <tr>\n",
       "      <th>6</th>\n",
       "      <td>Meat</td>\n",
       "      <td>1</td>\n",
       "      <td>lbs</td>\n",
       "    </tr>\n",
       "    <tr>\n",
       "      <th>7</th>\n",
       "      <td>Tomato</td>\n",
       "      <td>2</td>\n",
       "      <td>lbs</td>\n",
       "    </tr>\n",
       "  </tbody>\n",
       "</table>\n",
       "</div>"
      ],
      "text/plain": [
       "      item  quantity    unit\n",
       "0   Apples         3     lbs\n",
       "1   Grapes         2     lbs\n",
       "2    Bread         2  loaves\n",
       "3     Milk         1  gallon\n",
       "4     Eggs         1   dozen\n",
       "5  Chicken         2     lbs\n",
       "6     Meat         1     lbs\n",
       "7   Tomato         2     lbs"
      ]
     },
     "metadata": {},
     "output_type": "display_data"
    }
   ],
   "source": [
    "df1 = json_normalize(data[\"shoppingList\"]['groceries'])\n",
    "display(df1)"
   ]
  },
  {
   "cell_type": "code",
   "execution_count": null,
   "id": "99d677aa",
   "metadata": {},
   "outputs": [],
   "source": []
  },
  {
   "cell_type": "code",
   "execution_count": null,
   "id": "729e7c59",
   "metadata": {},
   "outputs": [],
   "source": []
  },
  {
   "cell_type": "code",
   "execution_count": null,
   "id": "20a50738",
   "metadata": {},
   "outputs": [],
   "source": []
  },
  {
   "cell_type": "code",
   "execution_count": null,
   "id": "1491701b",
   "metadata": {},
   "outputs": [],
   "source": []
  }
 ],
 "metadata": {
  "kernelspec": {
   "display_name": "Python 3 (ipykernel)",
   "language": "python",
   "name": "python3"
  },
  "language_info": {
   "codemirror_mode": {
    "name": "ipython",
    "version": 3
   },
   "file_extension": ".py",
   "mimetype": "text/x-python",
   "name": "python",
   "nbconvert_exporter": "python",
   "pygments_lexer": "ipython3",
   "version": "3.9.7"
  }
 },
 "nbformat": 4,
 "nbformat_minor": 5
}
