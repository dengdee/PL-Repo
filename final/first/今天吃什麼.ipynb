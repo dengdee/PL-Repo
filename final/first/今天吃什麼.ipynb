{
 "cells": [
  {
   "cell_type": "markdown",
   "id": "46d1f479",
   "metadata": {},
   "source": [
    "今天吃什麽？餐廳抽籤機 —— 線上迷你黑客松第一次進度檢核\n",
    "\n",
    "篩選部分實作 \n",
    "\n",
    "台大資工二 B11902075 鄧亦宸"
   ]
  },
  {
   "cell_type": "code",
   "execution_count": 1,
   "id": "ba546f72",
   "metadata": {},
   "outputs": [
    {
     "name": "stdout",
     "output_type": "stream",
     "text": [
      "Requirement already satisfied: gradio in c:\\users\\004\\anaconda3\\lib\\site-packages (4.31.0)\n",
      "Requirement already satisfied: aiofiles<24.0,>=22.0 in c:\\users\\004\\anaconda3\\lib\\site-packages (from gradio) (23.2.1)\n",
      "Requirement already satisfied: python-multipart>=0.0.9 in c:\\users\\004\\anaconda3\\lib\\site-packages (from gradio) (0.0.9)\n",
      "Requirement already satisfied: typer<1.0,>=0.12 in c:\\users\\004\\anaconda3\\lib\\site-packages (from gradio) (0.12.3)\n",
      "Requirement already satisfied: huggingface-hub>=0.19.3 in c:\\users\\004\\anaconda3\\lib\\site-packages (from gradio) (0.22.2)\n",
      "Requirement already satisfied: matplotlib~=3.0 in c:\\users\\004\\anaconda3\\lib\\site-packages (from gradio) (3.4.3)\n",
      "Requirement already satisfied: urllib3~=2.0 in c:\\users\\004\\anaconda3\\lib\\site-packages (from gradio) (2.2.1)\n",
      "Requirement already satisfied: numpy~=1.0 in c:\\users\\004\\anaconda3\\lib\\site-packages (from gradio) (1.20.3)\n",
      "Requirement already satisfied: packaging in c:\\users\\004\\anaconda3\\lib\\site-packages (from gradio) (23.2)\n",
      "Requirement already satisfied: pydantic>=2.0 in c:\\users\\004\\anaconda3\\lib\\site-packages (from gradio) (2.6.3)\n",
      "Requirement already satisfied: typing-extensions~=4.0 in c:\\users\\004\\anaconda3\\lib\\site-packages (from gradio) (4.10.0)\n",
      "Requirement already satisfied: tomlkit==0.12.0 in c:\\users\\004\\anaconda3\\lib\\site-packages (from gradio) (0.12.0)\n",
      "Requirement already satisfied: pandas<3.0,>=1.0 in c:\\users\\004\\anaconda3\\lib\\site-packages (from gradio) (1.3.4)\n",
      "Requirement already satisfied: fastapi in c:\\users\\004\\anaconda3\\lib\\site-packages (from gradio) (0.110.0)\n"
     ]
    },
    {
     "name": "stderr",
     "output_type": "stream",
     "text": [
      "WARNING: Ignoring invalid distribution -aiss-cpu (c:\\users\\004\\anaconda3\\lib\\site-packages)\n",
      "WARNING: Ignoring invalid distribution -aiss-cpu (c:\\users\\004\\anaconda3\\lib\\site-packages)\n",
      "WARNING: Ignoring invalid distribution -aiss-cpu (c:\\users\\004\\anaconda3\\lib\\site-packages)\n",
      "WARNING: Ignoring invalid distribution -aiss-cpu (c:\\users\\004\\anaconda3\\lib\\site-packages)\n",
      "WARNING: Ignoring invalid distribution -aiss-cpu (c:\\users\\004\\anaconda3\\lib\\site-packages)\n",
      "WARNING: Ignoring invalid distribution -aiss-cpu (c:\\users\\004\\anaconda3\\lib\\site-packages)\n"
     ]
    },
    {
     "name": "stdout",
     "output_type": "stream",
     "text": [
      "Requirement already satisfied: httpx>=0.24.1 in c:\\users\\004\\anaconda3\\lib\\site-packages (from gradio) (0.27.0)\n",
      "Requirement already satisfied: pillow<11.0,>=8.0 in c:\\users\\004\\anaconda3\\lib\\site-packages (from gradio) (8.4.0)\n",
      "Requirement already satisfied: pyyaml<7.0,>=5.0 in c:\\users\\004\\anaconda3\\lib\\site-packages (from gradio) (6.0)\n",
      "Requirement already satisfied: jinja2<4.0 in c:\\users\\004\\anaconda3\\lib\\site-packages (from gradio) (2.11.3)\n",
      "Requirement already satisfied: ruff>=0.2.2 in c:\\users\\004\\anaconda3\\lib\\site-packages (from gradio) (0.2.2)\n",
      "Requirement already satisfied: orjson~=3.0 in c:\\users\\004\\anaconda3\\lib\\site-packages (from gradio) (3.9.15)\n",
      "Requirement already satisfied: ffmpy in c:\\users\\004\\anaconda3\\lib\\site-packages (from gradio) (0.3.2)\n",
      "Requirement already satisfied: altair<6.0,>=4.2.0 in c:\\users\\004\\anaconda3\\lib\\site-packages (from gradio) (5.2.0)\n",
      "Requirement already satisfied: importlib-resources<7.0,>=1.3 in c:\\users\\004\\anaconda3\\lib\\site-packages (from gradio) (6.1.2)\n",
      "Requirement already satisfied: gradio-client==0.16.2 in c:\\users\\004\\anaconda3\\lib\\site-packages (from gradio) (0.16.2)\n",
      "Requirement already satisfied: semantic-version~=2.0 in c:\\users\\004\\anaconda3\\lib\\site-packages (from gradio) (2.10.0)\n",
      "Requirement already satisfied: uvicorn>=0.14.0 in c:\\users\\004\\anaconda3\\lib\\site-packages (from gradio) (0.27.1)\n",
      "Requirement already satisfied: markupsafe~=2.0 in c:\\users\\004\\anaconda3\\lib\\site-packages (from gradio) (2.0.1)\n",
      "Requirement already satisfied: pydub in c:\\users\\004\\anaconda3\\lib\\site-packages (from gradio) (0.25.1)\n",
      "Requirement already satisfied: fsspec in c:\\users\\004\\anaconda3\\lib\\site-packages (from gradio-client==0.16.2->gradio) (2024.3.1)\n",
      "Requirement already satisfied: websockets<12.0,>=10.0 in c:\\users\\004\\anaconda3\\lib\\site-packages (from gradio-client==0.16.2->gradio) (11.0.3)\n",
      "Requirement already satisfied: jsonschema>=3.0 in c:\\users\\004\\anaconda3\\lib\\site-packages (from altair<6.0,>=4.2.0->gradio) (3.2.0)\n",
      "Requirement already satisfied: toolz in c:\\users\\004\\anaconda3\\lib\\site-packages (from altair<6.0,>=4.2.0->gradio) (0.11.1)\n",
      "Requirement already satisfied: anyio in c:\\users\\004\\anaconda3\\lib\\site-packages (from httpx>=0.24.1->gradio) (4.3.0)\n",
      "Requirement already satisfied: idna in c:\\users\\004\\anaconda3\\lib\\site-packages (from httpx>=0.24.1->gradio) (3.2)\n",
      "Requirement already satisfied: certifi in c:\\users\\004\\anaconda3\\lib\\site-packages (from httpx>=0.24.1->gradio) (2021.10.8)\n",
      "Requirement already satisfied: httpcore==1.* in c:\\users\\004\\anaconda3\\lib\\site-packages (from httpx>=0.24.1->gradio) (1.0.4)\n",
      "Requirement already satisfied: sniffio in c:\\users\\004\\anaconda3\\lib\\site-packages (from httpx>=0.24.1->gradio) (1.2.0)\n",
      "Requirement already satisfied: h11<0.15,>=0.13 in c:\\users\\004\\anaconda3\\lib\\site-packages (from httpcore==1.*->httpx>=0.24.1->gradio) (0.14.0)\n",
      "Requirement already satisfied: requests in c:\\users\\004\\anaconda3\\lib\\site-packages (from huggingface-hub>=0.19.3->gradio) (2.31.0)\n",
      "Requirement already satisfied: tqdm>=4.42.1 in c:\\users\\004\\anaconda3\\lib\\site-packages (from huggingface-hub>=0.19.3->gradio) (4.62.3)\n",
      "Requirement already satisfied: filelock in c:\\users\\004\\anaconda3\\lib\\site-packages (from huggingface-hub>=0.19.3->gradio) (3.3.1)\n",
      "Requirement already satisfied: zipp>=3.1.0 in c:\\users\\004\\anaconda3\\lib\\site-packages (from importlib-resources<7.0,>=1.3->gradio) (3.6.0)\n",
      "Requirement already satisfied: pyrsistent>=0.14.0 in c:\\users\\004\\anaconda3\\lib\\site-packages (from jsonschema>=3.0->altair<6.0,>=4.2.0->gradio) (0.18.0)\n",
      "Requirement already satisfied: six>=1.11.0 in c:\\users\\004\\anaconda3\\lib\\site-packages (from jsonschema>=3.0->altair<6.0,>=4.2.0->gradio) (1.16.0)\n",
      "Requirement already satisfied: setuptools in c:\\users\\004\\anaconda3\\lib\\site-packages (from jsonschema>=3.0->altair<6.0,>=4.2.0->gradio) (58.0.4)\n",
      "Requirement already satisfied: attrs>=17.4.0 in c:\\users\\004\\anaconda3\\lib\\site-packages (from jsonschema>=3.0->altair<6.0,>=4.2.0->gradio) (21.2.0)\n",
      "Requirement already satisfied: kiwisolver>=1.0.1 in c:\\users\\004\\anaconda3\\lib\\site-packages (from matplotlib~=3.0->gradio) (1.3.1)\n",
      "Requirement already satisfied: pyparsing>=2.2.1 in c:\\users\\004\\anaconda3\\lib\\site-packages (from matplotlib~=3.0->gradio) (3.0.4)\n",
      "Requirement already satisfied: python-dateutil>=2.7 in c:\\users\\004\\anaconda3\\lib\\site-packages (from matplotlib~=3.0->gradio) (2.8.2)\n",
      "Requirement already satisfied: cycler>=0.10 in c:\\users\\004\\anaconda3\\lib\\site-packages (from matplotlib~=3.0->gradio) (0.10.0)\n",
      "Requirement already satisfied: pytz>=2017.3 in c:\\users\\004\\anaconda3\\lib\\site-packages (from pandas<3.0,>=1.0->gradio) (2021.3)\n",
      "Requirement already satisfied: pydantic-core==2.16.3 in c:\\users\\004\\anaconda3\\lib\\site-packages (from pydantic>=2.0->gradio) (2.16.3)\n",
      "Requirement already satisfied: annotated-types>=0.4.0 in c:\\users\\004\\anaconda3\\lib\\site-packages (from pydantic>=2.0->gradio) (0.6.0)\n",
      "Requirement already satisfied: colorama in c:\\users\\004\\anaconda3\\lib\\site-packages (from tqdm>=4.42.1->huggingface-hub>=0.19.3->gradio) (0.4.4)\n",
      "Requirement already satisfied: shellingham>=1.3.0 in c:\\users\\004\\anaconda3\\lib\\site-packages (from typer<1.0,>=0.12->gradio) (1.5.4)\n",
      "Requirement already satisfied: rich>=10.11.0 in c:\\users\\004\\anaconda3\\lib\\site-packages (from typer<1.0,>=0.12->gradio) (13.7.1)\n",
      "Requirement already satisfied: click>=8.0.0 in c:\\users\\004\\anaconda3\\lib\\site-packages (from typer<1.0,>=0.12->gradio) (8.0.3)\n",
      "Requirement already satisfied: markdown-it-py>=2.2.0 in c:\\users\\004\\anaconda3\\lib\\site-packages (from rich>=10.11.0->typer<1.0,>=0.12->gradio) (3.0.0)\n",
      "Requirement already satisfied: pygments<3.0.0,>=2.13.0 in c:\\users\\004\\anaconda3\\lib\\site-packages (from rich>=10.11.0->typer<1.0,>=0.12->gradio) (2.17.2)\n",
      "Requirement already satisfied: mdurl~=0.1 in c:\\users\\004\\anaconda3\\lib\\site-packages (from markdown-it-py>=2.2.0->rich>=10.11.0->typer<1.0,>=0.12->gradio) (0.1.2)\n",
      "Requirement already satisfied: exceptiongroup>=1.0.2 in c:\\users\\004\\anaconda3\\lib\\site-packages (from anyio->httpx>=0.24.1->gradio) (1.2.0)\n",
      "Requirement already satisfied: starlette<0.37.0,>=0.36.3 in c:\\users\\004\\anaconda3\\lib\\site-packages (from fastapi->gradio) (0.36.3)\n",
      "Requirement already satisfied: charset-normalizer<4,>=2 in c:\\users\\004\\anaconda3\\lib\\site-packages (from requests->huggingface-hub>=0.19.3->gradio) (2.0.4)\n",
      "Requirement already satisfied: gradio in c:\\users\\004\\anaconda3\\lib\\site-packages (4.31.0)\n",
      "Collecting gradio\n",
      "  Downloading gradio-4.31.2-py3-none-any.whl (12.3 MB)\n",
      "Requirement already satisfied: pandas<3.0,>=1.0 in c:\\users\\004\\anaconda3\\lib\\site-packages (from gradio) (1.3.4)\n",
      "Requirement already satisfied: importlib-resources<7.0,>=1.3 in c:\\users\\004\\anaconda3\\lib\\site-packages (from gradio) (6.1.2)\n",
      "Requirement already satisfied: pyyaml<7.0,>=5.0 in c:\\users\\004\\anaconda3\\lib\\site-packages (from gradio) (6.0)\n",
      "Collecting gradio-client==0.16.3\n",
      "  Downloading gradio_client-0.16.3-py3-none-any.whl (315 kB)\n",
      "Requirement already satisfied: uvicorn>=0.14.0 in c:\\users\\004\\anaconda3\\lib\\site-packages (from gradio) (0.27.1)\n",
      "Requirement already satisfied: huggingface-hub>=0.19.3 in c:\\users\\004\\anaconda3\\lib\\site-packages (from gradio) (0.22.2)\n"
     ]
    },
    {
     "name": "stderr",
     "output_type": "stream",
     "text": [
      "WARNING: Ignoring invalid distribution -aiss-cpu (c:\\users\\004\\anaconda3\\lib\\site-packages)\n",
      "WARNING: Ignoring invalid distribution -aiss-cpu (c:\\users\\004\\anaconda3\\lib\\site-packages)\n",
      "WARNING: Ignoring invalid distribution -aiss-cpu (c:\\users\\004\\anaconda3\\lib\\site-packages)\n"
     ]
    },
    {
     "name": "stdout",
     "output_type": "stream",
     "text": [
      "Requirement already satisfied: jinja2<4.0 in c:\\users\\004\\anaconda3\\lib\\site-packages (from gradio) (2.11.3)\n",
      "Requirement already satisfied: fastapi in c:\\users\\004\\anaconda3\\lib\\site-packages (from gradio) (0.110.0)\n",
      "Requirement already satisfied: packaging in c:\\users\\004\\anaconda3\\lib\\site-packages (from gradio) (23.2)\n",
      "Requirement already satisfied: ruff>=0.2.2 in c:\\users\\004\\anaconda3\\lib\\site-packages (from gradio) (0.2.2)\n",
      "Requirement already satisfied: semantic-version~=2.0 in c:\\users\\004\\anaconda3\\lib\\site-packages (from gradio) (2.10.0)\n",
      "Requirement already satisfied: typer<1.0,>=0.12 in c:\\users\\004\\anaconda3\\lib\\site-packages (from gradio) (0.12.3)\n",
      "Requirement already satisfied: numpy~=1.0 in c:\\users\\004\\anaconda3\\lib\\site-packages (from gradio) (1.20.3)\n",
      "Requirement already satisfied: python-multipart>=0.0.9 in c:\\users\\004\\anaconda3\\lib\\site-packages (from gradio) (0.0.9)\n",
      "Requirement already satisfied: tomlkit==0.12.0 in c:\\users\\004\\anaconda3\\lib\\site-packages (from gradio) (0.12.0)\n",
      "Requirement already satisfied: urllib3~=2.0 in c:\\users\\004\\anaconda3\\lib\\site-packages (from gradio) (2.2.1)\n",
      "Requirement already satisfied: pydantic>=2.0 in c:\\users\\004\\anaconda3\\lib\\site-packages (from gradio) (2.6.3)\n",
      "Requirement already satisfied: pillow<11.0,>=8.0 in c:\\users\\004\\anaconda3\\lib\\site-packages (from gradio) (8.4.0)\n",
      "Requirement already satisfied: ffmpy in c:\\users\\004\\anaconda3\\lib\\site-packages (from gradio) (0.3.2)\n",
      "Requirement already satisfied: altair<6.0,>=4.2.0 in c:\\users\\004\\anaconda3\\lib\\site-packages (from gradio) (5.2.0)\n",
      "Requirement already satisfied: aiofiles<24.0,>=22.0 in c:\\users\\004\\anaconda3\\lib\\site-packages (from gradio) (23.2.1)\n",
      "Requirement already satisfied: orjson~=3.0 in c:\\users\\004\\anaconda3\\lib\\site-packages (from gradio) (3.9.15)\n",
      "Requirement already satisfied: typing-extensions~=4.0 in c:\\users\\004\\anaconda3\\lib\\site-packages (from gradio) (4.10.0)\n",
      "Requirement already satisfied: matplotlib~=3.0 in c:\\users\\004\\anaconda3\\lib\\site-packages (from gradio) (3.4.3)\n",
      "Requirement already satisfied: httpx>=0.24.1 in c:\\users\\004\\anaconda3\\lib\\site-packages (from gradio) (0.27.0)\n",
      "Requirement already satisfied: pydub in c:\\users\\004\\anaconda3\\lib\\site-packages (from gradio) (0.25.1)\n",
      "Requirement already satisfied: markupsafe~=2.0 in c:\\users\\004\\anaconda3\\lib\\site-packages (from gradio) (2.0.1)\n",
      "Requirement already satisfied: fsspec in c:\\users\\004\\anaconda3\\lib\\site-packages (from gradio-client==0.16.3->gradio) (2024.3.1)\n",
      "Requirement already satisfied: websockets<12.0,>=10.0 in c:\\users\\004\\anaconda3\\lib\\site-packages (from gradio-client==0.16.3->gradio) (11.0.3)\n",
      "Requirement already satisfied: jsonschema>=3.0 in c:\\users\\004\\anaconda3\\lib\\site-packages (from altair<6.0,>=4.2.0->gradio) (3.2.0)\n",
      "Requirement already satisfied: toolz in c:\\users\\004\\anaconda3\\lib\\site-packages (from altair<6.0,>=4.2.0->gradio) (0.11.1)\n",
      "Requirement already satisfied: certifi in c:\\users\\004\\anaconda3\\lib\\site-packages (from httpx>=0.24.1->gradio) (2021.10.8)\n",
      "Requirement already satisfied: httpcore==1.* in c:\\users\\004\\anaconda3\\lib\\site-packages (from httpx>=0.24.1->gradio) (1.0.4)\n",
      "Requirement already satisfied: idna in c:\\users\\004\\anaconda3\\lib\\site-packages (from httpx>=0.24.1->gradio) (3.2)\n",
      "Requirement already satisfied: sniffio in c:\\users\\004\\anaconda3\\lib\\site-packages (from httpx>=0.24.1->gradio) (1.2.0)\n",
      "Requirement already satisfied: anyio in c:\\users\\004\\anaconda3\\lib\\site-packages (from httpx>=0.24.1->gradio) (4.3.0)\n",
      "Requirement already satisfied: h11<0.15,>=0.13 in c:\\users\\004\\anaconda3\\lib\\site-packages (from httpcore==1.*->httpx>=0.24.1->gradio) (0.14.0)\n",
      "Requirement already satisfied: filelock in c:\\users\\004\\anaconda3\\lib\\site-packages (from huggingface-hub>=0.19.3->gradio) (3.3.1)\n",
      "Requirement already satisfied: requests in c:\\users\\004\\anaconda3\\lib\\site-packages (from huggingface-hub>=0.19.3->gradio) (2.31.0)\n",
      "Requirement already satisfied: tqdm>=4.42.1 in c:\\users\\004\\anaconda3\\lib\\site-packages (from huggingface-hub>=0.19.3->gradio) (4.62.3)\n",
      "Requirement already satisfied: zipp>=3.1.0 in c:\\users\\004\\anaconda3\\lib\\site-packages (from importlib-resources<7.0,>=1.3->gradio) (3.6.0)\n",
      "Requirement already satisfied: pyrsistent>=0.14.0 in c:\\users\\004\\anaconda3\\lib\\site-packages (from jsonschema>=3.0->altair<6.0,>=4.2.0->gradio) (0.18.0)\n",
      "Requirement already satisfied: six>=1.11.0 in c:\\users\\004\\anaconda3\\lib\\site-packages (from jsonschema>=3.0->altair<6.0,>=4.2.0->gradio) (1.16.0)\n",
      "Requirement already satisfied: setuptools in c:\\users\\004\\anaconda3\\lib\\site-packages (from jsonschema>=3.0->altair<6.0,>=4.2.0->gradio) (58.0.4)\n",
      "Requirement already satisfied: attrs>=17.4.0 in c:\\users\\004\\anaconda3\\lib\\site-packages (from jsonschema>=3.0->altair<6.0,>=4.2.0->gradio) (21.2.0)\n",
      "Requirement already satisfied: cycler>=0.10 in c:\\users\\004\\anaconda3\\lib\\site-packages (from matplotlib~=3.0->gradio) (0.10.0)\n",
      "Requirement already satisfied: kiwisolver>=1.0.1 in c:\\users\\004\\anaconda3\\lib\\site-packages (from matplotlib~=3.0->gradio) (1.3.1)\n",
      "Requirement already satisfied: pyparsing>=2.2.1 in c:\\users\\004\\anaconda3\\lib\\site-packages (from matplotlib~=3.0->gradio) (3.0.4)\n",
      "Requirement already satisfied: python-dateutil>=2.7 in c:\\users\\004\\anaconda3\\lib\\site-packages (from matplotlib~=3.0->gradio) (2.8.2)\n",
      "Requirement already satisfied: pytz>=2017.3 in c:\\users\\004\\anaconda3\\lib\\site-packages (from pandas<3.0,>=1.0->gradio) (2021.3)\n",
      "Requirement already satisfied: pydantic-core==2.16.3 in c:\\users\\004\\anaconda3\\lib\\site-packages (from pydantic>=2.0->gradio) (2.16.3)\n",
      "Requirement already satisfied: annotated-types>=0.4.0 in c:\\users\\004\\anaconda3\\lib\\site-packages (from pydantic>=2.0->gradio) (0.6.0)\n",
      "Requirement already satisfied: colorama in c:\\users\\004\\anaconda3\\lib\\site-packages (from tqdm>=4.42.1->huggingface-hub>=0.19.3->gradio) (0.4.4)\n",
      "Requirement already satisfied: rich>=10.11.0 in c:\\users\\004\\anaconda3\\lib\\site-packages (from typer<1.0,>=0.12->gradio) (13.7.1)\n",
      "Requirement already satisfied: click>=8.0.0 in c:\\users\\004\\anaconda3\\lib\\site-packages (from typer<1.0,>=0.12->gradio) (8.0.3)\n",
      "Requirement already satisfied: shellingham>=1.3.0 in c:\\users\\004\\anaconda3\\lib\\site-packages (from typer<1.0,>=0.12->gradio) (1.5.4)\n",
      "Requirement already satisfied: pygments<3.0.0,>=2.13.0 in c:\\users\\004\\anaconda3\\lib\\site-packages (from rich>=10.11.0->typer<1.0,>=0.12->gradio) (2.17.2)\n",
      "Requirement already satisfied: markdown-it-py>=2.2.0 in c:\\users\\004\\anaconda3\\lib\\site-packages (from rich>=10.11.0->typer<1.0,>=0.12->gradio) (3.0.0)\n",
      "Requirement already satisfied: mdurl~=0.1 in c:\\users\\004\\anaconda3\\lib\\site-packages (from markdown-it-py>=2.2.0->rich>=10.11.0->typer<1.0,>=0.12->gradio) (0.1.2)\n",
      "Requirement already satisfied: exceptiongroup>=1.0.2 in c:\\users\\004\\anaconda3\\lib\\site-packages (from anyio->httpx>=0.24.1->gradio) (1.2.0)\n",
      "Requirement already satisfied: starlette<0.37.0,>=0.36.3 in c:\\users\\004\\anaconda3\\lib\\site-packages (from fastapi->gradio) (0.36.3)\n",
      "Requirement already satisfied: charset-normalizer<4,>=2 in c:\\users\\004\\anaconda3\\lib\\site-packages (from requests->huggingface-hub>=0.19.3->gradio) (2.0.4)\n",
      "Installing collected packages: gradio-client, gradio\n",
      "  Attempting uninstall: gradio-client\n",
      "    Found existing installation: gradio-client 0.16.2\n",
      "    Uninstalling gradio-client-0.16.2:\n",
      "      Successfully uninstalled gradio-client-0.16.2\n",
      "  Attempting uninstall: gradio\n",
      "    Found existing installation: gradio 4.31.0\n",
      "    Uninstalling gradio-4.31.0:\n",
      "      Successfully uninstalled gradio-4.31.0\n",
      "Successfully installed gradio-4.31.2 gradio-client-0.16.3\n"
     ]
    },
    {
     "name": "stderr",
     "output_type": "stream",
     "text": [
      "    WARNING: Ignoring invalid distribution -aiss-cpu (c:\\users\\004\\anaconda3\\lib\\site-packages)\n",
      "    WARNING: Ignoring invalid distribution -aiss-cpu (c:\\users\\004\\anaconda3\\lib\\site-packages)\n",
      "WARNING: Ignoring invalid distribution -aiss-cpu (c:\\users\\004\\anaconda3\\lib\\site-packages)\n",
      "WARNING: Ignoring invalid distribution -aiss-cpu (c:\\users\\004\\anaconda3\\lib\\site-packages)\n",
      "WARNING: Ignoring invalid distribution -aiss-cpu (c:\\users\\004\\anaconda3\\lib\\site-packages)\n",
      "WARNING: Ignoring invalid distribution -aiss-cpu (c:\\users\\004\\anaconda3\\lib\\site-packages)\n",
      "WARNING: Ignoring invalid distribution -aiss-cpu (c:\\users\\004\\anaconda3\\lib\\site-packages)\n"
     ]
    }
   ],
   "source": [
    "!pip install gradio\n",
    "!pip install --upgrade gradio"
   ]
  },
  {
   "cell_type": "code",
   "execution_count": 100,
   "id": "b77aa3f7",
   "metadata": {},
   "outputs": [
    {
     "data": {
      "text/html": [
       "<div>\n",
       "<style scoped>\n",
       "    .dataframe tbody tr th:only-of-type {\n",
       "        vertical-align: middle;\n",
       "    }\n",
       "\n",
       "    .dataframe tbody tr th {\n",
       "        vertical-align: top;\n",
       "    }\n",
       "\n",
       "    .dataframe thead th {\n",
       "        text-align: right;\n",
       "    }\n",
       "</style>\n",
       "<table border=\"1\" class=\"dataframe\">\n",
       "  <thead>\n",
       "    <tr style=\"text-align: right;\">\n",
       "      <th></th>\n",
       "      <th>Name</th>\n",
       "      <th>Average Cost</th>\n",
       "      <th>Type</th>\n",
       "      <th>food type</th>\n",
       "      <th>Distance(m)</th>\n",
       "      <th>Comment</th>\n",
       "    </tr>\n",
       "  </thead>\n",
       "  <tbody>\n",
       "    <tr>\n",
       "      <th>0</th>\n",
       "      <td>A</td>\n",
       "      <td>200</td>\n",
       "      <td>日式</td>\n",
       "      <td>飯</td>\n",
       "      <td>200</td>\n",
       "      <td>good</td>\n",
       "    </tr>\n",
       "    <tr>\n",
       "      <th>1</th>\n",
       "      <td>B</td>\n",
       "      <td>4000</td>\n",
       "      <td>日式</td>\n",
       "      <td>拉麵</td>\n",
       "      <td>1200</td>\n",
       "      <td>so so</td>\n",
       "    </tr>\n",
       "    <tr>\n",
       "      <th>2</th>\n",
       "      <td>C</td>\n",
       "      <td>120</td>\n",
       "      <td>台式</td>\n",
       "      <td>飯</td>\n",
       "      <td>500</td>\n",
       "      <td>ok</td>\n",
       "    </tr>\n",
       "    <tr>\n",
       "      <th>3</th>\n",
       "      <td>D</td>\n",
       "      <td>500</td>\n",
       "      <td>港式</td>\n",
       "      <td>其他</td>\n",
       "      <td>500</td>\n",
       "      <td>worth a try</td>\n",
       "    </tr>\n",
       "    <tr>\n",
       "      <th>4</th>\n",
       "      <td>E</td>\n",
       "      <td>2000</td>\n",
       "      <td>美式</td>\n",
       "      <td>其他</td>\n",
       "      <td>3000</td>\n",
       "      <td>bad</td>\n",
       "    </tr>\n",
       "  </tbody>\n",
       "</table>\n",
       "</div>"
      ],
      "text/plain": [
       "  Name  Average Cost Type food type  Distance(m)      Comment\n",
       "0    A           200   日式         飯          200         good\n",
       "1    B          4000   日式        拉麵         1200        so so\n",
       "2    C           120   台式         飯          500           ok\n",
       "3    D           500   港式        其他          500  worth a try\n",
       "4    E          2000   美式        其他         3000          bad"
      ]
     },
     "metadata": {},
     "output_type": "display_data"
    }
   ],
   "source": [
    "import pandas as pd\n",
    "restaurant_df = pd.read_csv('eat_test_data.csv')\n",
    "display(restaurant_df)"
   ]
  },
  {
   "cell_type": "code",
   "execution_count": 101,
   "id": "3f58dc9e",
   "metadata": {},
   "outputs": [
    {
     "name": "stdout",
     "output_type": "stream",
     "text": [
      "Running on local URL:  http://127.0.0.1:7910\n",
      "\n",
      "To create a public link, set `share=True` in `launch()`.\n"
     ]
    },
    {
     "data": {
      "text/html": [
       "<div><iframe src=\"http://127.0.0.1:7910/\" width=\"100%\" height=\"500\" allow=\"autoplay; camera; microphone; clipboard-read; clipboard-write;\" frameborder=\"0\" allowfullscreen></iframe></div>"
      ],
      "text/plain": [
       "<IPython.core.display.HTML object>"
      ]
     },
     "metadata": {},
     "output_type": "display_data"
    },
    {
     "data": {
      "text/plain": []
     },
     "execution_count": 101,
     "metadata": {},
     "output_type": "execute_result"
    }
   ],
   "source": [
    "def food(num1,num2,Type,food_type):    \n",
    "    restaurant_df = pd.read_csv('eat_test_data.csv')\n",
    "    restaurant_df[\"score\"]=[0, 0, 0,0,0]\n",
    "    print(restaurant_df)\n",
    "    for i in range(0,4,1):\n",
    "        if (restaurant_df[\"Average Cost\"][i]<num1):\n",
    "            restaurant_df.loc[i,\"score\"]+=1\n",
    "    for i in range(0,4,1):\n",
    "        if (restaurant_df[\"Distance(m)\"][i]<num2):\n",
    "            restaurant_df.loc[i,\"score\"]+=1\n",
    "    for i in range(0,4,1):\n",
    "        if (restaurant_df[\"Type\"][i]==Type):\n",
    "            restaurant_df.loc[i,\"score\"]+=1\n",
    "    for i in range(0,4,1):\n",
    "        for j in food_type:\n",
    "            if (restaurant_df[\"food type\"][i]==j):\n",
    "                restaurant_df.loc[i,\"score\"]+=1\n",
    "                break\n",
    "    idx=-1        \n",
    "    for i in range(0,4,1):\n",
    "        if (idx==-1 or restaurant_df[\"score\"][i]>restaurant_df[\"score\"][idx]):\n",
    "            idx=i\n",
    "    print(restaurant_df)\n",
    "    print(restaurant_df[\"Comment\"][idx])\n",
    "    return restaurant_df[\"Name\"][idx]+\"\\nComment:\"+restaurant_df[\"Comment\"][idx]\n",
    "\n",
    "\n",
    "Type = [\"日式\", \"台式\", \"港式\",\"美式\",\"其他\"]\n",
    "type_dropdown = gr.Dropdown(choices=Type, label=\"Type\")\n",
    "\n",
    "demo= gr.Interface(\n",
    "    food,\n",
    "    [\n",
    "        gr.Number(label=\"Budget\"),\n",
    "        gr.Slider(10, 9999, value=200, label=\"Distance(m)\", info=\"Choose between 10 and 9999\"),\n",
    "        type_dropdown,\n",
    "        gr.CheckboxGroup([\"飯\",\"麵\",\"拉麵\",\"其他\"], label=\"foodtype?\")\n",
    "    ],\n",
    "    outputs=\"text\",\n",
    "    title=\"今天吃什麼\",\n",
    "    description=\"來看看附近有什麼好吃的吧\"\n",
    ")\n",
    "demo.launch()"
   ]
  },
  {
   "cell_type": "code",
   "execution_count": null,
   "id": "45f13cf9",
   "metadata": {},
   "outputs": [],
   "source": []
  },
  {
   "cell_type": "code",
   "execution_count": null,
   "id": "678a373b",
   "metadata": {},
   "outputs": [],
   "source": []
  },
  {
   "cell_type": "code",
   "execution_count": null,
   "id": "366e29dc",
   "metadata": {},
   "outputs": [],
   "source": []
  },
  {
   "cell_type": "code",
   "execution_count": null,
   "id": "4d56372d",
   "metadata": {},
   "outputs": [],
   "source": []
  },
  {
   "cell_type": "code",
   "execution_count": null,
   "id": "3ceb7e65",
   "metadata": {},
   "outputs": [],
   "source": []
  },
  {
   "cell_type": "code",
   "execution_count": null,
   "id": "da21c569",
   "metadata": {},
   "outputs": [],
   "source": []
  }
 ],
 "metadata": {
  "kernelspec": {
   "display_name": "Python 3 (ipykernel)",
   "language": "python",
   "name": "python3"
  },
  "language_info": {
   "codemirror_mode": {
    "name": "ipython",
    "version": 3
   },
   "file_extension": ".py",
   "mimetype": "text/x-python",
   "name": "python",
   "nbconvert_exporter": "python",
   "pygments_lexer": "ipython3",
   "version": "3.9.7"
  }
 },
 "nbformat": 4,
 "nbformat_minor": 5
}
